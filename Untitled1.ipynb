{
  "nbformat": 4,
  "nbformat_minor": 0,
  "metadata": {
    "colab": {
      "name": "Untitled1.ipynb",
      "provenance": [],
      "collapsed_sections": [],
      "mount_file_id": "18Iosou6JHRA8kx7VVsdRdyEjT_I2p6xa",
      "authorship_tag": "ABX9TyOQl6oZD14IQCySVGJ4DJqS",
      "include_colab_link": true
    },
    "kernelspec": {
      "name": "python3",
      "display_name": "Python 3"
    }
  },
  "cells": [
    {
      "cell_type": "markdown",
      "metadata": {
        "id": "view-in-github",
        "colab_type": "text"
      },
      "source": [
        "<a href=\"https://colab.research.google.com/github/Haseungheon/-/blob/master/Untitled1.ipynb\" target=\"_parent\"><img src=\"https://colab.research.google.com/assets/colab-badge.svg\" alt=\"Open In Colab\"/></a>"
      ]
    },
    {
      "cell_type": "markdown",
      "metadata": {
        "id": "U_Z8DpW8bsze",
        "colab_type": "text"
      },
      "source": [
        "#**(인공지능 사관학교 프리코스 1주차 과제)**\n",
        "이름 : 하승헌\n",
        "\n",
        "\n",
        "\n",
        "\n",
        "---\n",
        "\n",
        "\n",
        "(1.언어)\n",
        "\n",
        "  과거 번역은 단어의 조합으로 번역했기 때문에 부드럽지 않았으며 자연어 처리에 있어서 매우 부족했습니다.\n",
        "  그러나 현재는 인공 신경망 기술의 발달로 문장들 사이 상관성을 탐색하며 번역하므로 훨씬 더 자연스러운 번역과 자연어 번역에 있어서도 뛰어납니다.\n",
        "  앞으로 우리는 언어를 공부하지 않아도 세계 여러나라 사람들과 소통하며 더 넓은 경험을 할 수 있을 것입니다.\n",
        "\n",
        "[AI가 언어의 장벽을 무너뜨리고 있다?!](https://post.naver.com/viewer/postView.nhn?volumeNo=26062708&memberNo=16226184)\n",
        "\n",
        "\n",
        "---\n",
        "\n",
        "\n",
        "---\n",
        "\n",
        "\n",
        "\n",
        "(2.음성)\n",
        "\n",
        "음성AI 기술은 단순히 음성을 인식해 텍스트로 변환하는 단계를 넘어서 단어와 목소리 톤 등을 분석해 감정까지 잡아내는 '지능형  컨택 섹터'에 한 발짝 다가서고 있습니다.\n",
        "영화 HER에서 보면 주인공은 매력적인 목소리에 공감능력까지 뛰어난 AI와 사랑에 \n",
        "빠집니다. 어쩌면 머지않아 사람보다 자기 마음을 더 잘 이해해 주고 공감해 주고 때로는 조언해 주는 AI에게 마음을 빼앗길지 모릅니다\n",
        "또 한편으로는 우리 목소리를 이용하는 보이스피싱 등의 범죄에도 쉽게 이용될 수 있지 않을까 우려도 생기게 됩니다.\n",
        "\n",
        "[AI 음성인식, 감정까지 잡아낸다고?](http://www.engjournal.co.kr/news/articleView.html?idxno=683)\n",
        "\n",
        "\n",
        "---\n",
        "\n",
        "---\n",
        "\n",
        "(3.이미지)\n",
        "\n",
        "요즘은 카메라고 물건을 찍으면 이 물건이 무엇인지 어느 회사에서 만들어졌는지 모두 알 수 있습니다. 의료나 보안검색대 등에서는 데이터 표현방식을 바꿔 사람의 눈으로 볼 수 없는 것 들을 볼 수 있게 되었습니다. 또한 자율주행에서 사람을 알아보고 신호등을 알아보고 애완동물을 알아보는 이미지 기술은 없어서는 안 될 기술입니다. 앞으로 미래는 AI의 눈을 빌려 인간이 볼 수 없는 세계를 탐구하고 경험할 수 있다는 생각에 설렙니다.\n",
        "[이미지 인식AI, 사람보다 정확한 눈으로 세상을 보다!](https://www.samsungsds.com/global/ko/news/story/visual-0214.html)\n",
        "\n",
        "\n",
        "---\n",
        "\n",
        "\n",
        "---\n",
        "\n",
        "(4.자율주행)\n",
        "\n",
        "자율주행이야말로 우리의 삶을 바꿀 기술이라고 생각합니다. 지금까지 운전을 하는 동안에 운전자는 운전말고는 아무것도 할 수 없었습니다. 중요한 시간을 운전을 하는데 보냈습니다. 그러나 자율주행 기술의 발전으로 자동차는 또 다른 문화의 공간, 휴식으 공간으로 바뀔 거라 생각됩니다. 또한 모든 차가 자율주행이 된다면 1년에 3000명 정도의 사망자를 내던 교통사고도 훨씬 줄어들 거나 일어나지 않을 것입니다.\n",
        "그렇기에 세계적인 기업들이 자율주행에 투자하고 있습니다.\n",
        "현재 세계 자율주행 1등 기업은 알파벳의 자회사 웨이모입니다. 웨이모는 라이다라는 기술로 물체의 거리를 측정하고 분석하여 자율주행 하고 있습니다. 웨이모는 자율주행 4단계를 완성했으며 곧 5단계까지 발전할 거라 보고 있습니다.\n",
        "하지만 라이다라는 기술에 도전장을 내민 테슬라는 새로운 방식으로 자율주행을 이루려고 하고 있습니다. 테슬라는 카메라를 이용해 수많은 이미지 데이트를 모아 분석하여 자율주행을 하고 있습니다.\n",
        "현재 이미지 데이터는 실제 자동차를 팔며 데이터를 끊임없이 모으고 있는 테슬라가 웨이모에 비해 월등히 많은 데이터를 모으고 있습니다. 앞으로 어떤 기업이 자율주행의 승자가 될지 정말 궁금합니다.\n",
        "\n",
        "[구글 웨이모 5세대 자율주행 센서](https://youtu.be/qiS0wA7P1qk)\n",
        "\n",
        "[테슬라의 자율주행 자동차](https://youtu.be/CgJ2FDP36gI)\n",
        "\n",
        "\n",
        "\n",
        "---\n",
        "\n",
        "\n",
        "\n"
      ]
    },
    {
      "cell_type": "markdown",
      "metadata": {
        "id": "eJ5WllbUbpve",
        "colab_type": "text"
      },
      "source": [
        ""
      ]
    },
    {
      "cell_type": "markdown",
      "metadata": {
        "id": "l01Q16pAYbkv",
        "colab_type": "text"
      },
      "source": [
        ""
      ]
    }
  ]
}