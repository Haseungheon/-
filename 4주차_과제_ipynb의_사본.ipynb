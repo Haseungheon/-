{
  "nbformat": 4,
  "nbformat_minor": 0,
  "metadata": {
    "colab": {
      "name": "4주차 과제.ipynb의 사본",
      "provenance": [],
      "collapsed_sections": [],
      "include_colab_link": true
    },
    "kernelspec": {
      "name": "python3",
      "display_name": "Python 3"
    }
  },
  "cells": [
    {
      "cell_type": "markdown",
      "metadata": {
        "id": "view-in-github",
        "colab_type": "text"
      },
      "source": [
        "<a href=\"https://colab.research.google.com/github/Haseungheon/-/blob/master/4%EC%A3%BC%EC%B0%A8_%EA%B3%BC%EC%A0%9C_ipynb%EC%9D%98_%EC%82%AC%EB%B3%B8.ipynb\" target=\"_parent\"><img src=\"https://colab.research.google.com/assets/colab-badge.svg\" alt=\"Open In Colab\"/></a>"
      ]
    },
    {
      "cell_type": "markdown",
      "metadata": {
        "id": "wxkL6PjwsI6L",
        "colab_type": "text"
      },
      "source": [
        "# 4주차 과제\n",
        "- 용어 정리\n",
        "- 딥러닝 강의 클론 코딩\n",
        "- 딥러닝 순전파 & 역전파 계산"
      ]
    },
    {
      "cell_type": "markdown",
      "metadata": {
        "id": "ixEtDe6_uGgI",
        "colab_type": "text"
      },
      "source": [
        "## 1. 용어 정리\n",
        "\n",
        "다음 제시된 단어의 정의(설명)를 정리하여 작성 하세요.\n",
        "\n",
        "* 2문장 이상 작성 해 주세요. \n",
        "* 주제(단어)와 크게 벗어나지만 않는다면 정답처리 됩니다.\n",
        "* 강의 뿐 아니라 기타 레퍼런스를 참고하여 작성하셔도 됩니다. (기타 레퍼런스를 참고하신 경우, 해당 레퍼런스를 정리하여 하단에 작성해 주세요.)\n"
      ]
    },
    {
      "cell_type": "markdown",
      "metadata": {
        "id": "0lfwat8eurKZ",
        "colab_type": "text"
      },
      "source": [
        "__(예시)__\n",
        "### 심층 신경망\n",
        ": 입력층과 출력층 사이에 여러 개의 은닉층들로 이뤄진 인공신경망이다. 심층 신경망은 일반적으로 인공신경망과 마찬가지로 복잡한 비선형 관계들을 모델링 할 수 있다. 신층신경망의 목적은 분류 및 수치예측을 하기 위함이고 이미지 트레이닝이나 문자인식과 같은 분야에서 매우 유용하게 쓰이고 있다."
      ]
    },
    {
      "cell_type": "markdown",
      "metadata": {
        "id": "Y8YJNKG_v65A",
        "colab_type": "text"
      },
      "source": [
        "### MCP 뉴런\n",
        ":1943년 위랜 맥컬록과 윌터 피츠가 간소화된 뇌의 뉴런 개념을 발표했다. 뇌의 뉴런은 신경세포와 서로 연결되어 있으며, 화학적, 전기적 신호를  처리하고 전달하는데 관여합니다. 이러한 뇌의 뉴런을 이진출력을 내는 간단한 논리회로로 표현한 것이 맥컬록-피츠 뉴런 즉 MCP뉴런이라고 합니다.\n",
        "\n",
        "### 퍼셉트론\n",
        ":1957년 프랭크 로젠 블렛이 MCP 뉴런 모델을 기반으로 자동으로 최적의 가중치를 학습하는 알고리즘을 제안하며 퍼셉트론이라는 학습 개념을 발표했습니다.이러한 퍼셉트론 알고리즘은 여러개의 입력을 받아 각각의 값에 가중치를 곱한 후 모두 더한것이 출력되는 것입니다. 하지만 너무도 단순한 모델이기에 선형적으로 구분되지 않는 데이터에는 수렴하지 못합니다.\n",
        "\n",
        "### 역전파\n",
        ":역전파는 신경망을 해결하는 과정에서 나온 것입니다. 신경망은 손실함수가 최솟값일 때의 파라미터를 찾아 올바른 학습결과를 내는 것인데 신경망에서 사용하는 파라미터 개수가 더 많아 정의하거나 미분하기 어렵습니다. 이 문제를 해결하기 위해 역전파가 생겼습니다. 역전파는 말 그대로 뉴런의 가중치를 효율적으로 조정하기 위하여 출력값과 지도데이터사이에 생기는 '오차'를 이용해 출력층에서 입력층으로 거꾸로 가중치를 조정하는 것입니다. 이러한 역전파는 경사하강법을 이용하여 계산할 수 있습니다.\n",
        "\n",
        "### 강화학습\n",
        ":강화학습은 머신러닝의 한 분야로 에이전트가 환경과의 상호작용을 통해 장기적으로 얻는 이득을 최대화하도록 학습하는 방법입니다. 강화학습은 다양한 경험을 할 수 있도록 에이전트의 행동을 결정하는 '탐험'이라는 기법과 학습된 결과에 따라 에이전트의 행동을 결정하는 '활용'이라는 기법을 이용하여 학습시킵니다. 그러나 하나의 행동을 선택할 때, '활용'과 '탐험'을 동시에 할 수 없는 '딜레마'혹은 '갈등'이 생깁니다. 그렇기에 '활용'과 '탐험'을 적절히 분배하는 게 강화학습에서 중요합니다.\n",
        "\n",
        "### 과적합\n",
        ":머신러닝에서 더 자세히 예측하고 싶어 학습 데이터를 과하게 학습하는 것을 말합니다. 일반적으로 학습 데이터는 실제 데이터의 부분집합이며, 실제 데이터를 모두 모으는 것은 불가능합니다. 만일 실제 데이터를 모두 수집했다고 하더라도 모든 데이터를 학습시키는데 엄청난 시간이 듭니다. 학습과정에서는 정확하게 맞을지는 모르겠지만 실전 데이터를 집어 넣었을 때 오차가 증가하게 됩니다.\n",
        "\n",
        "### 차원의 저주\n",
        ": 고차원 공간에서 데이터를 분석하고 구성 할 때 발생하는 다양한 현상을 말합니다. 이러한 문제의 일반적인 주제는 차원이 증가 할 때 공간 의 양 이 너무 빨리 증가하여 사용 가능한 데이터가 희박 해지는 것입니다. 통계적으로 건전하고 신뢰할 수있는 결과를 얻기 위해 결과를 지원하는 데 필요한 데이터 양이 종종 차원에 따라 기하 급수적으로 증가합니다. 또한 데이터를 구성하고 검색하는 경우 개체가 비슷한 속성을 가진 그룹을 형성하는 영역을 감지하는 데 종종 의존합니다. 그러나 차원이 높은 데이터에서는 모든 개체가 여러면에서 희박하고 유사하지 않은 것처럼 보이므로 일반적인 데이터 구성 전략이 효율적이지 않습니다.\n",
        "\n",
        "\n",
        "\n",
        "[과적합](https://ko.wikipedia.org/wiki/%EA%B3%BC%EC%A0%81%ED%95%A9)\n",
        "\n",
        "[차원의 저주](https://en.wikipedia.org/wiki/Curse_of_dimensionality)\n"
      ]
    },
    {
      "cell_type": "markdown",
      "metadata": {
        "id": "d-zfFXLCy6jD",
        "colab_type": "text"
      },
      "source": [
        "## 2. 딥러닝 강의 클론 코딩\n",
        "\n",
        "####__퍼셉트론 구조 구현하기__ \n",
        "딥러닝 강의(__딥러닝 원리[1] 3:15 ~ 5:15 부분__)를 보고 코드를 따라 치며 출력 결과를 만드세요.\n",
        " \n",
        "\n",
        "* 하나의 코드셀에 해당 코드를 한번에 다 적어서 실행해주세요 (__그렇게 하지 않을 경우, 아래 이미지와 같은 출력값이 나오지 않을 수 있습니다__)\n",
        "\n",
        "*__주의!__ 실제로 코딩해서 출력해보면 강의에 나온 출력 결과와 다르게 나옵니다!!\n"
      ]
    },
    {
      "cell_type": "code",
      "metadata": {
        "id": "5ksjT5Mv9dy_",
        "colab_type": "code",
        "colab": {
          "base_uri": "https://localhost:8080/",
          "height": 212
        },
        "outputId": "93d4bffb-3033-4623-8c49-fe2ea13349d3"
      },
      "source": [
        "import tensorflow as tf\n",
        "tf.compat.v1.set_random_seed(2020)\n",
        "x = 1\n",
        "y = 0\n",
        "w = tf.random.normal([1],0,1)\n",
        "\n",
        "import math\n",
        "def sigmoid(x):\n",
        "  return 1/(1 + math.exp(-x))\n",
        "\n",
        "output = sigmoid( x * w)\n",
        "print(output)\n",
        "\n",
        "for i in range(1000):\n",
        "  output = sigmoid(x*w)\n",
        "  error = y - output\n",
        "  w = w + x*0.1*error\n",
        "\n",
        "  if i % 100 == 99:\n",
        "    print(\"학습 횟수:\",x, \"Error:\",error, \"예측 결과:\", output)\n",
        "\n"
      ],
      "execution_count": 5,
      "outputs": [
        {
          "output_type": "stream",
          "text": [
            "0.47477188589261\n",
            "학습 횟수: 1 Error: -0.10010598284299604 예측 결과: 0.10010598284299604\n",
            "학습 횟수: 1 Error: -0.05178399422833116 예측 결과: 0.05178399422833116\n",
            "학습 횟수: 1 Error: -0.034590451977903586 예측 결과: 0.034590451977903586\n",
            "학습 횟수: 1 Error: -0.02588962752851373 예측 결과: 0.02588962752851373\n",
            "학습 횟수: 1 Error: -0.020658699939863617 예측 결과: 0.020658699939863617\n",
            "학습 횟수: 1 Error: -0.017174253993457355 예측 결과: 0.017174253993457355\n",
            "학습 횟수: 1 Error: -0.014689506449480992 예측 결과: 0.014689506449480992\n",
            "학습 횟수: 1 Error: -0.012829497265431342 예측 결과: 0.012829497265431342\n",
            "학습 횟수: 1 Error: -0.011385568271837804 예측 결과: 0.011385568271837804\n",
            "학습 횟수: 1 Error: -0.010232493309882492 예측 결과: 0.010232493309882492\n"
          ],
          "name": "stdout"
        }
      ]
    },
    {
      "cell_type": "markdown",
      "metadata": {
        "id": "wcc5mzI9oZ7r",
        "colab_type": "text"
      },
      "source": [
        "![대체 텍스트](https://www.notion.so/image/https%3A%2F%2Fs3-us-west-2.amazonaws.com%2Fsecure.notion-static.com%2F0cceeed0-0235-4b0f-af88-0b8c377d5b4b%2F_2020-06-09__9.35.23.png?table=block&id=88fd8912-9356-49a4-9fda-a1a63fe96ea9&width=2870&cache=v2)"
      ]
    },
    {
      "cell_type": "markdown",
      "metadata": {
        "id": "kr0HVRk8fOom",
        "colab_type": "text"
      },
      "source": [
        "## 3. 딥러닝 순전파 & 역전파 계산\n",
        "\n",
        "딥러닝 강의(__딥러닝 원리[2] 0:55 ~ 4:32 부분__)에 나오는 순전파 & 역전파 계산에 대한 문제 입니다.\n",
        "\n",
        "해당 영상과 다음 이미지를 참고하여 다음 2가지 물음에 답하세요.\n",
        "\n",
        "\n",
        "(1) 학습률이 0.2 일 경우 출력층의 노드값\n",
        "\n",
        "(2) 학습률이 0.1과 0.2 중 기대출력값이 지도데이터 \"3\"과 더 가까운 학습률은?"
      ]
    },
    {
      "cell_type": "markdown",
      "metadata": {
        "id": "CpwPFWhOUzww",
        "colab_type": "text"
      },
      "source": [
        "![대체 텍스트](https://www.notion.so/image/https%3A%2F%2Fs3-us-west-2.amazonaws.com%2Fsecure.notion-static.com%2Ff54dfd45-92ec-44ae-9616-6949d2484a45%2F_2020-06-10__5.22.03.png?table=block&id=ee05da89-3ceb-4ad9-a2d3-c9f68d24d1d9&width=3580&cache=v2)"
      ]
    },
    {
      "cell_type": "markdown",
      "metadata": {
        "id": "B2OVY7w5U3CI",
        "colab_type": "text"
      },
      "source": [
        "## (1) 학습률이 0.2 일 경우 출력층의 노드값 : 1.6\n",
        "## (2) 학습률이 0.1과 0.2 중 기대출력값이 지도데이터 \"3\"과 더 가까운 학습률은? : 0.1"
      ]
    },
    {
      "cell_type": "code",
      "metadata": {
        "id": "BgavfvqiWxBU",
        "colab_type": "code",
        "colab": {}
      },
      "source": [
        ""
      ],
      "execution_count": 0,
      "outputs": []
    }
  ]
}